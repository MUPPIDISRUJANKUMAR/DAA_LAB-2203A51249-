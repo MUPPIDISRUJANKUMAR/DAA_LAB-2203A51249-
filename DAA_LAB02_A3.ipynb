{
  "nbformat": 4,
  "nbformat_minor": 0,
  "metadata": {
    "colab": {
      "provenance": [],
      "authorship_tag": "ABX9TyOStS+2c0F44BITODD52Kbt",
      "include_colab_link": true
    },
    "kernelspec": {
      "name": "python3",
      "display_name": "Python 3"
    },
    "language_info": {
      "name": "python"
    }
  },
  "cells": [
    {
      "cell_type": "markdown",
      "metadata": {
        "id": "view-in-github",
        "colab_type": "text"
      },
      "source": [
        "<a href=\"https://colab.research.google.com/github/MUPPIDISRUJANKUMAR/DAA_LAB-2203A51249-/blob/main/DAA_LAB02_A3.ipynb\" target=\"_parent\"><img src=\"https://colab.research.google.com/assets/colab-badge.svg\" alt=\"Open In Colab\"/></a>"
      ]
    },
    {
      "cell_type": "markdown",
      "source": [
        "WEEK1_1_GN_DAA:\n",
        "\n",
        "Imagine you work for a large logistics company that handles a high volume of package deliveries on a daily basis. The company's success hinges on ensuring that packages are delivered to their respective destinations efficiently and on time. To solve this problem, you create a program that can quickly process and classify packages based on their destination"
      ],
      "metadata": {
        "id": "l47R6oKkRBjk"
      }
    },
    {
      "cell_type": "code",
      "execution_count": 1,
      "metadata": {
        "colab": {
          "base_uri": "https://localhost:8080/"
        },
        "id": "-PNQTl7yQ-fT",
        "outputId": "feaf83e2-b4c9-48e7-8c35-1ae3904d6fca"
      },
      "outputs": [
        {
          "output_type": "stream",
          "name": "stdout",
          "text": [
            "Enter the number of packages: 4\n",
            "Enter details for package 1:\n",
            "Enter package code: 54\n",
            "Enter address: ha\n",
            "Enter time required (in hours): 50\n",
            "Enter details for package 2:\n",
            "Enter package code: 54\n",
            "Enter address: hf\n",
            "Enter time required (in hours): 64\n",
            "Enter details for package 3:\n",
            "Enter package code: 84\n",
            "Enter address: tr\n",
            "Enter time required (in hours): 45\n",
            "Enter details for package 4:\n",
            "Enter package code: 85\n",
            "Enter address: po\n",
            "Enter time required (in hours): 98\n",
            "Enter 'asc' for ascending order or 'desc' for descending order: asc\n",
            "\n",
            "Sorted packages:\n",
            "Package Code: 84, Address: tr, Time Required: 45.0 hours\n",
            "Package Code: 54, Address: ha, Time Required: 50.0 hours\n",
            "Package Code: 54, Address: hf, Time Required: 64.0 hours\n",
            "Package Code: 85, Address: po, Time Required: 98.0 hours\n"
          ]
        }
      ],
      "source": [
        "def bubble_sort(arr, ascending=True):\n",
        "    n = len(arr)\n",
        "    for i in range(n):\n",
        "        for j in range(0, n - i - 1):\n",
        "            # Compare based on time required\n",
        "            if ascending:\n",
        "                if arr[j]['time_required'] > arr[j + 1]['time_required']:\n",
        "                    arr[j], arr[j + 1] = arr[j + 1], arr[j]\n",
        "            else:\n",
        "                if arr[j]['time_required'] < arr[j + 1]['time_required']:\n",
        "                    arr[j], arr[j + 1] = arr[j + 1], arr[j]\n",
        "    return arr\n",
        "\n",
        "def arrange_packages():\n",
        "    # Initialize an empty list to store package details\n",
        "    packages = []\n",
        "\n",
        "    # Get the details for each package\n",
        "    num_packages = int(input(\"Enter the number of packages: \"))\n",
        "    for i in range(num_packages):\n",
        "        print(f\"Enter details for package {i + 1}:\")\n",
        "        package_code = input(\"Enter package code: \")\n",
        "        address = input(\"Enter address: \")\n",
        "        time_required = float(input(\"Enter time required (in hours): \"))\n",
        "\n",
        "        # Store the package details in a dictionary\n",
        "        package_details = {\n",
        "            'package_code': package_code,\n",
        "            'address': address,\n",
        "            'time_required': time_required\n",
        "        }\n",
        "\n",
        "        # Add the package details to the list\n",
        "        packages.append(package_details)\n",
        "\n",
        "    # Ask the user for their preference (ascending or descending order)\n",
        "    preference = input(\"Enter 'asc' for ascending order or 'desc' for descending order: \")\n",
        "\n",
        "    # Determine sorting order\n",
        "    ascending = preference.lower() == 'asc'\n",
        "\n",
        "    # Sort the packages based on time required using bubble sort\n",
        "    sorted_packages = bubble_sort(packages, ascending)\n",
        "\n",
        "    # Print the sorted package details\n",
        "    print(\"\\nSorted packages:\")\n",
        "    for package in sorted_packages:\n",
        "        print(f\"Package Code: {package['package_code']}, Address: {package['address']}, \"\n",
        "              f\"Time Required: {package['time_required']} hours\")\n",
        "\n",
        "arrange_packages()\n"
      ]
    },
    {
      "cell_type": "markdown",
      "source": [
        "WEEK1_2_GN_DAA:\n",
        "\n",
        "Imagine you are working for a retail store that sells a wide variety of products. The store has a vast inventory with thousands of items, and it's becoming challenging for the employees to manage and locate products efficiently. Customers often ask for specific items, and employees need to find them quickly. The sorting program's primary goal is to organize the products in the inventory systematically, allowing for faster and easier access to items when needed. Implement an efficient sorting algorithm to arrange the products based on product IDs."
      ],
      "metadata": {
        "id": "qdN8ff0jUhCf"
      }
    },
    {
      "cell_type": "code",
      "source": [
        "def selection_sort(arr, ascending=True):\n",
        "    n = len(arr)\n",
        "    for i in range(n):\n",
        "        # Assume the current element is the minimum or maximum\n",
        "        extreme_index = i\n",
        "        for j in range(i + 1, n):\n",
        "            if ascending:\n",
        "                if arr[j]['product_id'] < arr[extreme_index]['product_id']:\n",
        "                    extreme_index = j\n",
        "            else:\n",
        "                if arr[j]['product_id'] > arr[extreme_index]['product_id']:\n",
        "                    extreme_index = j\n",
        "        # Swap the found minimum or maximum element with the current element\n",
        "        arr[i], arr[extreme_index] = arr[extreme_index], arr[i]\n",
        "    return arr\n",
        "\n",
        "def arrange_products():\n",
        "    # Initialize an empty list to store product details\n",
        "    products = []\n",
        "\n",
        "    # Get the details for each product\n",
        "    num_products = int(input(\"Enter the number of products: \"))\n",
        "    for i in range(num_products):\n",
        "        print(f\"Enter details for product {i + 1}:\")\n",
        "        item_name = input(\"Enter item name: \")\n",
        "        product_id = int(input(\"Enter product ID: \"))\n",
        "        availability_status = input(\"Enter availability status (Available/Out of Stock): \")\n",
        "        cost = float(input(\"Enter cost: \"))\n",
        "\n",
        "        # Store the product details in a dictionary\n",
        "        product_details = {\n",
        "            'item_name': item_name,\n",
        "            'product_id': product_id,\n",
        "            'availability_status': availability_status,\n",
        "            'cost': cost\n",
        "        }\n",
        "\n",
        "        # Add the product details to the list\n",
        "        products.append(product_details)\n",
        "\n",
        "    # Ask the user for their preference (ascending or descending order)\n",
        "    preference = input(\"Enter 'asc' for ascending order or 'desc' for descending order: \")\n",
        "\n",
        "    # Determine sorting order\n",
        "    ascending = preference.lower() == 'asc'\n",
        "\n",
        "    # Sort the products based on product ID using selection sort\n",
        "    sorted_products = selection_sort(products, ascending)\n",
        "\n",
        "    # Print the sorted product details\n",
        "    print(\"\\nSorted products:\")\n",
        "    for product in sorted_products:\n",
        "        print(f\"Item Name: {product['item_name']}, Product ID: {product['product_id']}, \"\n",
        "              f\"Availability Status: {product['availability_status']}, Cost: ${product['cost']:.2f}\")\n",
        "\n",
        "arrange_products()\n"
      ],
      "metadata": {
        "id": "10JX9mDdRBDp",
        "colab": {
          "base_uri": "https://localhost:8080/"
        },
        "outputId": "abb3f789-b71a-45c1-c5fd-c47ae9390afc"
      },
      "execution_count": 3,
      "outputs": [
        {
          "output_type": "stream",
          "name": "stdout",
          "text": [
            "Enter the number of products: 4\n",
            "Enter details for product 1:\n",
            "Enter item name: we\n",
            "Enter product ID: 4512\n",
            "Enter availability status (Available/Out of Stock): a\n",
            "Enter cost: 56\n",
            "Enter details for product 2:\n",
            "Enter item name: re\n",
            "Enter product ID: 652\n",
            "Enter availability status (Available/Out of Stock): o\n",
            "Enter cost: 86\n",
            "Enter details for product 3:\n",
            "Enter item name: rt\n",
            "Enter product ID: 652\n",
            "Enter availability status (Available/Out of Stock): a\n",
            "Enter cost: 100\n",
            "Enter details for product 4:\n",
            "Enter item name: tr\n",
            "Enter product ID: 9852\n",
            "Enter availability status (Available/Out of Stock): a\n",
            "Enter cost: 500\n",
            "Enter 'asc' for ascending order or 'desc' for descending order: desc\n",
            "\n",
            "Sorted products:\n",
            "Item Name: tr, Product ID: 9852, Availability Status: a, Cost: $500.00\n",
            "Item Name: we, Product ID: 4512, Availability Status: a, Cost: $56.00\n",
            "Item Name: rt, Product ID: 652, Availability Status: a, Cost: $100.00\n",
            "Item Name: re, Product ID: 652, Availability Status: o, Cost: $86.00\n"
          ]
        }
      ]
    },
    {
      "cell_type": "markdown",
      "source": [
        "WEEK1_3_GN_DAA:\n",
        "\n",
        "Imagine you're working for a large online marketplace company that facilitates the buying and selling of various products. As part of the order processing system, the company receives thousands of new orders every minute from customers all around the world. To ensure efficient and timely order fulfillment, the orders need to be sorted based on various criteria before they can be processed and shipped. Some customers may request advanced shipping or have urgent requirements. So, implement an application to arrange the Orders based on priority Number."
      ],
      "metadata": {
        "id": "sDDwsTrvV5Ye"
      }
    },
    {
      "cell_type": "code",
      "source": [
        "def insertion_sort(arr, ascending=True):\n",
        "\n",
        "    n = len(arr)\n",
        "    for i in range(1, n):\n",
        "        key = arr[i]\n",
        "        j = i - 1\n",
        "        # Move elements of arr[0..i-1] that are greater (or smaller) than key\n",
        "        # to one position ahead of their current position\n",
        "        while j >= 0 and ((arr[j]['priority_number'] > key['priority_number'] and ascending) or\n",
        "                          (arr[j]['priority_number'] < key['priority_number'] and not ascending)):\n",
        "            arr[j + 1] = arr[j]\n",
        "            j -= 1\n",
        "        arr[j + 1] = key\n",
        "    return arr\n",
        "\n",
        "def arrange_orders():\n",
        "    # Initialize an empty list to store order details\n",
        "    orders = []\n",
        "\n",
        "    # Get the details for each order\n",
        "    while True:\n",
        "        try:\n",
        "            num_orders = int(input(\"Enter the number of orders: \"))\n",
        "            break  # Exit the loop if input is valid\n",
        "        except ValueError:\n",
        "            print(\"Invalid input. Please enter a number.\")\n",
        "\n",
        "    for i in range(num_orders):\n",
        "        print(f\"Enter details for order {i + 1}:\")\n",
        "        item_name = input(\"Enter item name: \")\n",
        "        product_id = input(\"Enter product ID: \")\n",
        "\n",
        "        # Get the shipping type and validate input\n",
        "        while True:\n",
        "            shipping_type = input(\"Enter type of shipping (advance: 'a', normal: 'n', urgent: 'u'): \").lower()\n",
        "            if shipping_type in ['a', 'n', 'u']:\n",
        "                break\n",
        "            else:\n",
        "                print(\"Invalid input. Please enter 'a', 'n', or 'u'.\")\n",
        "\n",
        "        # Assign priority numbers based on shipping type\n",
        "        priority_number = {\n",
        "            'a': 2,  # Advance shipping\n",
        "            'n': 3,  # Normal shipping\n",
        "            'u': 1   # Urgent shipping\n",
        "        }[shipping_type]\n",
        "\n",
        "        # Store the order details in a dictionary\n",
        "        order_details = {\n",
        "            'item_name': item_name,\n",
        "            'product_id': product_id,\n",
        "            'shipping_type': shipping_type,\n",
        "            'priority_number': priority_number\n",
        "        }\n",
        "\n",
        "        # Add the order details to the list\n",
        "        orders.append(order_details)\n",
        "\n",
        "    # Ask the user for their preference (ascending or descending order)\n",
        "    preference = input(\"Enter 'asc' for ascending order or 'desc' for descending order: \")\n",
        "\n",
        "    # Determine sorting order\n",
        "    ascending = preference.lower() == 'asc'\n",
        "\n",
        "    # Sort the orders based on priority number using insertion sort\n",
        "    sorted_orders = insertion_sort(orders, ascending)\n",
        "\n",
        "    # Print the sorted order details\n",
        "    print(\"\\nSorted orders:\")\n",
        "    for order in sorted_orders:\n",
        "        print(f\"Item Name: {order['item_name']}, Product ID: {order['product_id']}, \"\n",
        "              f\"Shipping Type: {order['shipping_type']}, Priority Number: {order['priority_number']}\")\n",
        "\n",
        "arrange_orders()\n"
      ],
      "metadata": {
        "colab": {
          "base_uri": "https://localhost:8080/"
        },
        "id": "yJttTzcbUzBZ",
        "outputId": "787fb915-6823-4e6a-a2a6-a793cf9aaf30"
      },
      "execution_count": 4,
      "outputs": [
        {
          "output_type": "stream",
          "name": "stdout",
          "text": [
            "Enter the number of orders: 4\n",
            "Enter details for order 1:\n",
            "Enter item name: sa\n",
            "Enter product ID: 985\n",
            "Enter type of shipping (advance: 'a', normal: 'n', urgent: 'u'): a\n",
            "Enter details for order 2:\n",
            "Enter item name: er\n",
            "Enter product ID: 985\n",
            "Enter type of shipping (advance: 'a', normal: 'n', urgent: 'u'): er\n",
            "Invalid input. Please enter 'a', 'n', or 'u'.\n",
            "Enter type of shipping (advance: 'a', normal: 'n', urgent: 'u'): n\n",
            "Enter details for order 3:\n",
            "Enter item name: re\n",
            "Enter product ID: 98\n",
            "Enter type of shipping (advance: 'a', normal: 'n', urgent: 'u'): u\n",
            "Enter details for order 4:\n",
            "Enter item name: re\n",
            "Enter product ID: wq\n",
            "Enter type of shipping (advance: 'a', normal: 'n', urgent: 'u'): n\n",
            "Enter 'asc' for ascending order or 'desc' for descending order: asc\n",
            "\n",
            "Sorted orders:\n",
            "Item Name: re, Product ID: 98, Shipping Type: u, Priority Number: 1\n",
            "Item Name: sa, Product ID: 985, Shipping Type: a, Priority Number: 2\n",
            "Item Name: er, Product ID: 985, Shipping Type: n, Priority Number: 3\n",
            "Item Name: re, Product ID: wq, Shipping Type: n, Priority Number: 3\n"
          ]
        }
      ]
    },
    {
      "cell_type": "code",
      "source": [],
      "metadata": {
        "id": "J3q7dJCbWFgM"
      },
      "execution_count": null,
      "outputs": []
    }
  ]
}