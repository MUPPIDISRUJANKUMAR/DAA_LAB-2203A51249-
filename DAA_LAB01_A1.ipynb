{
  "nbformat": 4,
  "nbformat_minor": 0,
  "metadata": {
    "colab": {
      "provenance": [],
      "authorship_tag": "ABX9TyPYTTjsK1k+D5qSWDcUgb1K",
      "include_colab_link": true
    },
    "kernelspec": {
      "name": "python3",
      "display_name": "Python 3"
    },
    "language_info": {
      "name": "python"
    }
  },
  "cells": [
    {
      "cell_type": "markdown",
      "metadata": {
        "id": "view-in-github",
        "colab_type": "text"
      },
      "source": [
        "<a href=\"https://colab.research.google.com/github/MUPPIDISRUJANKUMAR/DAA_LAB-2203A51249-/blob/main/DAA_LAB01_A1.ipynb\" target=\"_parent\"><img src=\"https://colab.research.google.com/assets/colab-badge.svg\" alt=\"Open In Colab\"/></a>"
      ]
    },
    {
      "cell_type": "code",
      "execution_count": null,
      "metadata": {
        "id": "VVVGChr5FKvQ",
        "colab": {
          "base_uri": "https://localhost:8080/"
        },
        "outputId": "cfbc1209-7ab4-4a73-a17d-83d8c8b1fcb7"
      },
      "outputs": [
        {
          "output_type": "stream",
          "name": "stdout",
          "text": [
            "10\n"
          ]
        }
      ],
      "source": [
        "#Find a peak element which is not smaller than its neighbors\n",
        "\n",
        "def peak(arr,n):\n",
        "  if(n==1):\n",
        "    return 0\n",
        "  if(arr[0]>=arr[1]):\n",
        "    return 0\n",
        "  if (arr[n-1] >= arr[n-2]):\n",
        "    return n-1\n",
        "  for i in range(1,n-1):\n",
        "    if (arr[i] >= arr[i-1] and arr[i] >= arr[i+1]):\n",
        "      return i\n",
        "\n",
        "arr=[1,4,10,5,2,8,1]\n",
        "n=len(arr)\n",
        "print(arr[peak(arr,n)])\n"
      ]
    },
    {
      "cell_type": "code",
      "source": [
        "#Find the minimum and maximum element in an array\n",
        "\n",
        "array1=[1,2,3,4,5]\n",
        "max=array1[0]\n",
        "min=array1[0]\n",
        "for i in range(len(array1)):\n",
        "  if array1[i]>max:\n",
        "    max=array1[i]\n",
        "  if array1[i]<min:\n",
        "    min=array1[i]\n",
        "print(max)\n",
        "print(min)"
      ],
      "metadata": {
        "colab": {
          "base_uri": "https://localhost:8080/"
        },
        "id": "Td0Feh8SQQhO",
        "outputId": "47c3fc2c-09a5-4f01-b156-4ba739f362cb"
      },
      "execution_count": null,
      "outputs": [
        {
          "output_type": "stream",
          "name": "stdout",
          "text": [
            "5\n",
            "1\n"
          ]
        }
      ]
    },
    {
      "cell_type": "code",
      "source": [
        "#Matrix addition\n",
        "x=[[1,2,3],\n",
        "   [4,5,2],\n",
        "   [1,2,1]]\n",
        "\n",
        "y=[[0,1,0],\n",
        "   [1,9,1],\n",
        "   [2,1,1]]\n",
        "\n",
        "res=[[0,0,0],\n",
        "     [0,0,0],\n",
        "     [0,0,0]]\n",
        "\n",
        "for i in range(len(x)):\n",
        "  for j in range(len(x[0])):\n",
        "    res[i][j] = x[i][j] + y[i][j]\n",
        "for r in res:\n",
        "  print(r)"
      ],
      "metadata": {
        "colab": {
          "base_uri": "https://localhost:8080/"
        },
        "id": "cAmmmM6QJgP6",
        "outputId": "1df3035d-0c3d-448d-ce55-656f296b584d"
      },
      "execution_count": null,
      "outputs": [
        {
          "output_type": "stream",
          "name": "stdout",
          "text": [
            "[1, 3, 3]\n",
            "[5, 14, 3]\n",
            "[3, 3, 2]\n"
          ]
        }
      ]
    },
    {
      "cell_type": "code",
      "source": [
        "#Matrix multiplication\n",
        "def matrix_multiply(matrix1, matrix2):\n",
        "    # Get the dimensions of the matrices\n",
        "    rows_matrix1 = len(matrix1)\n",
        "    cols_matrix1 = len(matrix1[0])\n",
        "    rows_matrix2 = len(matrix2)\n",
        "    cols_matrix2 = len(matrix2[0])\n",
        "\n",
        "    # Check if the matrices can be multiplied\n",
        "    if cols_matrix1 != rows_matrix2:\n",
        "        raise ValueError(\"Cannot multiply matrices: Number of columns in the first matrix must equal number of rows in the second matrix.\")\n",
        "\n",
        "    # Initialize the result matrix with zeroes\n",
        "    result = [[0 for _ in range(cols_matrix2)] for _ in range(rows_matrix1)]\n",
        "\n",
        "    # Perform matrix multiplication\n",
        "    for i in range(rows_matrix1):\n",
        "        for j in range(cols_matrix2):\n",
        "            for k in range(cols_matrix1):\n",
        "                result[i][j] += matrix1[i][k] * matrix2[k][j]\n",
        "\n",
        "    return result\n",
        "\n",
        "# Example matrices\n",
        "matrix1 = [\n",
        "    [1, 2, 3],\n",
        "    [4, 5, 6]\n",
        "]\n",
        "\n",
        "matrix2 = [\n",
        "    [7, 8],\n",
        "    [9, 10],\n",
        "    [11, 12]\n",
        "]\n",
        "\n",
        "# Multiply the matrices\n",
        "result = matrix_multiply(matrix1, matrix2)\n",
        "\n",
        "# Print the result\n",
        "print(\"Result of matrix multiplication:\")\n",
        "for row in result:\n",
        "    print(row)\n",
        "\n"
      ],
      "metadata": {
        "id": "YzkB81OULUWF",
        "colab": {
          "base_uri": "https://localhost:8080/"
        },
        "outputId": "309e7b19-1145-4d01-c9b1-48f8d4d37846"
      },
      "execution_count": 1,
      "outputs": [
        {
          "output_type": "stream",
          "name": "stdout",
          "text": [
            "Result of matrix multiplication:\n",
            "[58, 64]\n",
            "[139, 154]\n"
          ]
        }
      ]
    },
    {
      "cell_type": "code",
      "source": [],
      "metadata": {
        "id": "lvyFrGMhWRtj"
      },
      "execution_count": null,
      "outputs": []
    }
  ]
}