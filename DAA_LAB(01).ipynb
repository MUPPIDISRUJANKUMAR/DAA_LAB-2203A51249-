{
  "nbformat": 4,
  "nbformat_minor": 0,
  "metadata": {
    "colab": {
      "provenance": [],
      "authorship_tag": "ABX9TyPSiTABPcjuTsxKV744Gymf",
      "include_colab_link": true
    },
    "kernelspec": {
      "name": "python3",
      "display_name": "Python 3"
    },
    "language_info": {
      "name": "python"
    }
  },
  "cells": [
    {
      "cell_type": "markdown",
      "metadata": {
        "id": "view-in-github",
        "colab_type": "text"
      },
      "source": [
        "<a href=\"https://colab.research.google.com/github/MUPPIDISRUJANKUMAR/DAA_LAB-2203A51249-/blob/main/DAA_LAB(01).ipynb\" target=\"_parent\"><img src=\"https://colab.research.google.com/assets/colab-badge.svg\" alt=\"Open In Colab\"/></a>"
      ]
    },
    {
      "cell_type": "markdown",
      "source": [
        "WEEK1_1_SKM_DAA:\n",
        "\n",
        "In an online bookstore, there are thousands of books available for purchase. The\n",
        "bookstore's website allows customers to search for books based on various criteria,\n",
        "such as title, author, publication date, and price. if a customer searches for books by\n",
        "a specific title and price, the program can arrange the search results by price, from\n",
        "low to high or vice versa, based on the customer's preference.\n",
        "\n",
        "\n",
        "TEST CASE 1:\n",
        "\n",
        "INPUT:\n",
        "\n",
        "Enter Book Price:\n",
        "\n",
        "200\n",
        "150\n",
        "300\n",
        "420\n",
        "\n",
        "OUT PUT:\n",
        "\n",
        "420\n",
        "300\n",
        "200\n",
        "150\n",
        "\n",
        "TEST CASE 2:\n",
        "\n",
        "Enter Book Price:\n",
        "\n",
        "INPUT:\n",
        "\n",
        "150\n",
        "690\n",
        "800\n",
        "140\n",
        "\n",
        "OUTPUT:\n",
        "\n",
        "140\n",
        "150\n",
        "690\n",
        "800\n",
        "\n"
      ],
      "metadata": {
        "id": "J5eCIjcCHTbb"
      }
    },
    {
      "cell_type": "code",
      "source": [
        "def arrange_book_prices():\n",
        "    # Initialize an empty list to store the book prices\n",
        "    book_prices = []\n",
        "\n",
        "    # Get the delivery times for each package\n",
        "    for i in range(4):\n",
        "      price = int(input(\"Enter price: \"))\n",
        "      book_prices.append(price)\n",
        "\n",
        "\n",
        "    # Ask the customer for their preference (ascending or descending order)\n",
        "    preference = input(\"Enter 'asc' for ascending order or 'desc' for descending order: \")\n",
        "\n",
        "    # Sort the book prices based on the customer's preference\n",
        "    if preference == 'asc':\n",
        "        book_prices.sort()\n",
        "    elif preference == 'desc':\n",
        "        book_prices.sort(reverse=True)\n",
        "    else:\n",
        "        print(\"Invalid preference. Please enter 'asc' or 'desc'.\")\n",
        "\n",
        "    # Print the sorted book prices\n",
        "    for price in book_prices:\n",
        "        print(price)\n",
        "\n",
        "arrange_book_prices()"
      ],
      "metadata": {
        "colab": {
          "base_uri": "https://localhost:8080/"
        },
        "id": "-RpgnTdsHGdU",
        "outputId": "2b60d273-11b6-4093-d44e-04045554a1e4"
      },
      "execution_count": 5,
      "outputs": [
        {
          "output_type": "stream",
          "name": "stdout",
          "text": [
            "Enter price: 150\n",
            "Enter price: 690\n",
            "Enter price: 800\n",
            "Enter price: 140\n",
            "Enter 'asc' for ascending order or 'desc' for descending order: asc\n",
            "140\n",
            "150\n",
            "690\n",
            "800\n"
          ]
        }
      ]
    },
    {
      "cell_type": "markdown",
      "source": [
        "WEEK1_2_SKM_DAA\n",
        "\n",
        "Courier and logistics companies handle a massive volume of packages daily. These\n",
        "packages need to be efficiently sorted and routed to their destinations to ensure\n",
        "timely and accurate deliveries. Each package typically has a unique barcode that\n",
        "contains essential information like the recipient's address, delivery method, and\n",
        "tracking number. So, implement an application to arrange the packages based on\n",
        "tracking numbers.\n",
        "\n",
        "TEST CASE 1:\n",
        "\n",
        "INPUT:\n",
        "\n",
        "Enter Package Tracking Number\n",
        "\n",
        "2000\n",
        "1500\n",
        "3000\n",
        "4200\n",
        "\n",
        "OUTPUT:\n",
        "\n",
        "4200\n",
        "3000\n",
        "2000\n",
        "1500\n",
        "\n",
        "TEST CASE 1:\n",
        "\n",
        "INPUT:\n",
        "\n",
        "Enter Package Tracking Number\n",
        "\n",
        "1500\n",
        "6900\n",
        "8000\n",
        "1400\n",
        "\n",
        "OUTPUT:\n",
        "\n",
        "8000\n",
        "6900\n",
        "1500\n",
        "1400\n"
      ],
      "metadata": {
        "id": "8Ozbs-XHIQWF"
      }
    },
    {
      "cell_type": "code",
      "execution_count": null,
      "metadata": {
        "colab": {
          "base_uri": "https://localhost:8080/"
        },
        "id": "FcpudhWCF0Fk",
        "outputId": "72825d93-5be4-4a1b-d6b9-841b57e72707"
      },
      "outputs": [
        {
          "output_type": "stream",
          "name": "stdout",
          "text": [
            "Enter the number of packages: 4\n",
            "Enter package tracking number: 2000\n",
            "Enter package tracking number: 1500\n",
            "Enter package tracking number: 300\n",
            "Enter package tracking number: 4200\n",
            "Enter 'asc' for ascending order or 'desc' for descending order: desc\n",
            "4200\n",
            "2000\n",
            "1500\n",
            "300\n"
          ]
        }
      ],
      "source": [
        "3def arrange_packages():\n",
        "    # Initialize an empty list to store the package tracking numbers\n",
        "    tracking_numbers = []\n",
        "\n",
        "    # Get the tracking numbers for each package\n",
        "    num_packages = int(input(\"Enter the number of packages: \"))\n",
        "    for i in range(num_packages):\n",
        "        tracking_number = int(input(\"Enter package tracking number: \"))\n",
        "        tracking_numbers.append(tracking_number)\n",
        "\n",
        "    # Ask the user for their preference (ascending or descending order)\n",
        "    preference = input(\"Enter 'asc' for ascending order or 'desc' for descending order: \")\n",
        "\n",
        "    # Sort the tracking numbers based on the user's preference\n",
        "    if preference == 'asc':\n",
        "        tracking_numbers.sort()\n",
        "    elif preference == 'desc':\n",
        "        tracking_numbers.sort(reverse=True)\n",
        "    else:\n",
        "        print(\"Invalid preference. Please enter 'asc' or 'desc'.\")\n",
        "\n",
        "    # Print the sorted tracking numbers\n",
        "    for tracking_number in tracking_numbers:\n",
        "        print(tracking_number)\n",
        "\n",
        "arrange_packages()"
      ]
    },
    {
      "cell_type": "markdown",
      "source": [
        "WEEK1_3_SKM_DAA:\n",
        "\n",
        "Imagine you are working for a large online marketplace like Amazon or eBay. One\n",
        "of the critical functionalities of such platforms is to display products to customers in\n",
        "a way that is relevant, helpful, and easy to navigate. Customers can browse through\n",
        "thousands or even millions of products, and Many users prefer to see products sorted\n",
        "by price, either in ascending or descending order. This allows them to find the\n",
        "cheapest or most expensive products within their budget. So, implement an\n",
        "application to arrange the products based on price.\n",
        "\n",
        "TEST CASE 1:\n",
        "\n",
        "INPUT:\n",
        "\n",
        "Enter Product Price:\n",
        "\n",
        "2000\n",
        "1500\n",
        "3000\n",
        "4200\n",
        "\n",
        "OUTPUT:\n",
        "\n",
        "4200\n",
        "3000\n",
        "2000\n",
        "1500\n",
        "\n",
        "TEST CASE 2:\n",
        "\n",
        "Enter Product Price:\n",
        "\n",
        "INPUT:\n",
        "\n",
        "1500\n",
        "6900\n",
        "8000\n",
        "1400\n",
        "\n",
        "OUTPUT:\n",
        "\n",
        "1400\n",
        "1500\n",
        "6900\n",
        "8000\n"
      ],
      "metadata": {
        "id": "pXPaZHFPImfH"
      }
    },
    {
      "cell_type": "code",
      "source": [
        "def arrange_products():\n",
        "    # Initialize an empty list to store the product prices\n",
        "    product_prices = []\n",
        "\n",
        "    # Get the prices for each product\n",
        "    num_products = int(input(\"Enter the number of products: \"))\n",
        "    for i in range(num_products):\n",
        "        price = int(input(\"Enter product price: \"))\n",
        "        product_prices.append(price)\n",
        "\n",
        "    # Ask the customer for their preference (ascending or descending order)\n",
        "    preference = input(\"Enter 'asc' for ascending order or 'desc' for descending order: \")\n",
        "\n",
        "    # Sort the product prices based on the customer's preference\n",
        "    if preference == 'asc':\n",
        "        product_prices.sort()\n",
        "    elif preference == 'desc':\n",
        "        product_prices.sort(reverse=True)\n",
        "    else:\n",
        "        print(\"Invalid preference. Please enter 'asc' or 'desc'.\")\n",
        "\n",
        "    # Print the sorted product prices\n",
        "    for price in product_prices:\n",
        "        print(price)\n",
        "\n",
        "arrange_products()"
      ],
      "metadata": {
        "colab": {
          "base_uri": "https://localhost:8080/"
        },
        "id": "1nIMqx45GH7S",
        "outputId": "d6c74349-7c3a-4004-bcc8-3d2f52663f47"
      },
      "execution_count": 6,
      "outputs": [
        {
          "output_type": "stream",
          "name": "stdout",
          "text": [
            "Enter the number of products: 4\n",
            "Enter product price: 1500\n",
            "Enter product price: 6900\n",
            "Enter product price: 8000\n",
            "Enter product price: 1400\n",
            "Enter 'asc' for ascending order or 'desc' for descending order: asc\n",
            "1400\n",
            "1500\n",
            "6900\n",
            "8000\n"
          ]
        }
      ]
    }
  ]
}