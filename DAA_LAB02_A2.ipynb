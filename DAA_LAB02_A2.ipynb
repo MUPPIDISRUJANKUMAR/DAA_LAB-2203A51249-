{
  "nbformat": 4,
  "nbformat_minor": 0,
  "metadata": {
    "colab": {
      "provenance": [],
      "authorship_tag": "ABX9TyNUVDW2POwvbitkOQBGpLGN",
      "include_colab_link": true
    },
    "kernelspec": {
      "name": "python3",
      "display_name": "Python 3"
    },
    "language_info": {
      "name": "python"
    }
  },
  "cells": [
    {
      "cell_type": "markdown",
      "metadata": {
        "id": "view-in-github",
        "colab_type": "text"
      },
      "source": [
        "<a href=\"https://colab.research.google.com/github/MUPPIDISRUJANKUMAR/DAA_LAB-2203A51249-/blob/main/DAA_LAB02_A2.ipynb\" target=\"_parent\"><img src=\"https://colab.research.google.com/assets/colab-badge.svg\" alt=\"Open In Colab\"/></a>"
      ]
    },
    {
      "cell_type": "markdown",
      "source": [
        "WEEK1_1_SKM_DAA:\n",
        "\n",
        "In an online bookstore, there are thousands of books available for purchase. The\n",
        "bookstore's website allows customers to search for books based on various criteria,\n",
        "such as title, author, publication date, and price. if a customer searches for books by\n",
        "a specific title and price, the program can arrange the search results by price, from\n",
        "low to high or vice versa, based on the customer's preference.\n",
        "\n",
        "\n",
        "\n",
        "\n"
      ],
      "metadata": {
        "id": "J5eCIjcCHTbb"
      }
    },
    {
      "cell_type": "code",
      "source": [
        "def bubble_sort(arr, ascending=True):\n",
        "    n = len(arr)\n",
        "    for i in range(n):\n",
        "        for j in range(0, n-i-1):\n",
        "            # Compare based on price\n",
        "            if ascending:\n",
        "                if arr[j][3] > arr[j+1][3]:\n",
        "                    arr[j], arr[j+1] = arr[j+1], arr[j]\n",
        "            else:\n",
        "                if arr[j][3] < arr[j+1][3]:\n",
        "                    arr[j], arr[j+1] = arr[j+1], arr[j]\n",
        "    return arr\n",
        "\n",
        "def arrange_books():\n",
        "    # Initialize an empty list to store book details\n",
        "    books = []\n",
        "\n",
        "    # Get the details for each book\n",
        "    num_books = int(input(\"Enter the number of books: \"))\n",
        "    for i in range(num_books):\n",
        "        print(f\"Enter details for book {i+1}:\")\n",
        "        title = input(\"Enter title: \")\n",
        "        author = input(\"Enter author: \")\n",
        "        publication_date = input(\"Enter publication date (YYYY-MM-DD): \")\n",
        "        price = float(input(\"Enter price: \"))\n",
        "        books.append((title, author, publication_date, price))\n",
        "\n",
        "    # Ask the customer for their preference (ascending or descending order)\n",
        "    preference = input(\"Enter 'asc' for ascending order or 'desc' for descending order: \")\n",
        "\n",
        "    # Determine sorting order\n",
        "    ascending = preference.lower() == 'asc'\n",
        "\n",
        "    # Sort the books based on price using bubble sort\n",
        "    sorted_books = bubble_sort(books, ascending)\n",
        "\n",
        "    # Print the sorted book details\n",
        "    print(\"\\nSorted books:\")\n",
        "    for book in sorted_books:\n",
        "        title, author, publication_date, price = book\n",
        "        print(f\"Title: {title}, Author: {author}, Publication Date: {publication_date}, Price: ${price:.2f}\")\n",
        "\n",
        "arrange_books()\n"
      ],
      "metadata": {
        "colab": {
          "base_uri": "https://localhost:8080/"
        },
        "id": "0geaf7b_MUNX",
        "outputId": "c1550366-f010-4e60-9b06-732daaf4366c"
      },
      "execution_count": null,
      "outputs": [
        {
          "output_type": "stream",
          "name": "stdout",
          "text": [
            "Enter the number of books: 4\n",
            "Enter details for book 1:\n",
            "Enter title: apple\n",
            "Enter author: r\n",
            "Enter publication date (YYYY-MM-DD): 2007-09-12\n",
            "Enter price: 4000\n",
            "Enter details for book 2:\n",
            "Enter title: q\n",
            "Enter author: e\n",
            "Enter publication date (YYYY-MM-DD): 2008-10-23\n",
            "Enter price: 500\n",
            "Enter details for book 3:\n",
            "Enter title: twist\n",
            "Enter author: another twist\n",
            "Enter publication date (YYYY-MM-DD): 2004-01-01\n",
            "Enter price: 600\n",
            "Enter details for book 4:\n",
            "Enter title: book\n",
            "Enter author: teacj\n",
            "Enter publication date (YYYY-MM-DD): 2020-10-11\n",
            "Enter price: 1000\n",
            "Enter 'asc' for ascending order or 'desc' for descending order: asc\n",
            "\n",
            "Sorted books:\n",
            "Title: q, Author: e, Publication Date: 2008-10-23, Price: $500.00\n",
            "Title: twist, Author: another twist, Publication Date: 2004-01-01, Price: $600.00\n",
            "Title: book, Author: teacj, Publication Date: 2020-10-11, Price: $1000.00\n",
            "Title: apple, Author: r, Publication Date: 2007-09-12, Price: $4000.00\n"
          ]
        }
      ]
    },
    {
      "cell_type": "markdown",
      "source": [
        "WEEK1_2_SKM_DAA\n",
        "\n",
        "Courier and logistics companies handle a massive volume of packages daily. These\n",
        "packages need to be efficiently sorted and routed to their destinations to ensure\n",
        "timely and accurate deliveries. Each package typically has a unique barcode that\n",
        "contains essential information like the recipient's address, delivery method, and\n",
        "tracking number. So, implement an application to arrange the packages based on\n",
        "tracking numbers.\n",
        "\n"
      ],
      "metadata": {
        "id": "8Ozbs-XHIQWF"
      }
    },
    {
      "cell_type": "code",
      "source": [
        "def selection_sort(arr, ascending=True):\n",
        "    n = len(arr)\n",
        "    for i in range(n):\n",
        "        # Assume the current element is the minimum or maximum\n",
        "        extreme_index = i\n",
        "        for j in range(i + 1, n):\n",
        "            if ascending:\n",
        "                if arr[j]['tracking_number'] < arr[extreme_index]['tracking_number']:\n",
        "                    extreme_index = j\n",
        "            else:\n",
        "                if arr[j]['tracking_number'] > arr[extreme_index]['tracking_number']:\n",
        "                    extreme_index = j\n",
        "        # Swap the found minimum or maximum element with the current element\n",
        "        arr[i], arr[extreme_index] = arr[extreme_index], arr[i]\n",
        "    return arr\n",
        "\n",
        "def arrange_packages():\n",
        "    # Initialize an empty list to store package details\n",
        "    packages = []\n",
        "\n",
        "    # Get the details for each package\n",
        "    num_packages = int(input(\"Enter the number of packages: \"))\n",
        "    for i in range(num_packages):\n",
        "        print(f\"Enter details for package {i + 1}:\")\n",
        "        barcode = input(\"Enter unique barcode: \")\n",
        "        address = input(\"Enter recipient's address: \")\n",
        "        delivery_method = input(\"Enter delivery method: \")\n",
        "        tracking_number = int(input(\"Enter tracking number: \"))\n",
        "\n",
        "        # Store the package details in a dictionary\n",
        "        package_details = {\n",
        "            'barcode': barcode,\n",
        "            'address': address,\n",
        "            'delivery_method': delivery_method,\n",
        "            'tracking_number': tracking_number\n",
        "        }\n",
        "\n",
        "        # Add the package details to the list\n",
        "        packages.append(package_details)\n",
        "\n",
        "    # Ask the user for their preference (ascending or descending order)\n",
        "    preference = input(\"Enter 'asc' for ascending order or 'desc' for descending order: \")\n",
        "\n",
        "    # Determine sorting order\n",
        "    ascending = preference.lower() == 'asc'\n",
        "\n",
        "    # Sort the packages based on tracking number using selection sort\n",
        "    sorted_packages = selection_sort(packages, ascending)\n",
        "\n",
        "    # Print the sorted package details\n",
        "    print(\"\\nSorted packages:\")\n",
        "    for package in sorted_packages:\n",
        "        print(f\"Barcode: {package['barcode']}, Address: {package['address']}, \"\n",
        "              f\"Delivery Method: {package['delivery_method']}, Tracking Number: {package['tracking_number']}\")\n",
        "\n",
        "arrange_packages()\n"
      ],
      "metadata": {
        "colab": {
          "base_uri": "https://localhost:8080/"
        },
        "id": "0U2QY337QdOd",
        "outputId": "f86b3344-447d-4919-a7c4-f9d8fe9c5126"
      },
      "execution_count": null,
      "outputs": [
        {
          "output_type": "stream",
          "name": "stdout",
          "text": [
            "Enter the number of packages: 4\n",
            "Enter details for package 1:\n",
            "Enter unique barcode: 5646\n",
            "Enter recipient's address: aa\n",
            "Enter delivery method: re\n",
            "Enter tracking number: 420\n",
            "Enter details for package 2:\n",
            "Enter unique barcode: 342\n",
            "Enter recipient's address: qe\n",
            "Enter delivery method: te\n",
            "Enter tracking number: 500\n",
            "Enter details for package 3:\n",
            "Enter unique barcode: 1209\n",
            "Enter recipient's address: tew\n",
            "Enter delivery method: te\n",
            "Enter tracking number: 125\n",
            "Enter details for package 4:\n",
            "Enter unique barcode: 9412\n",
            "Enter recipient's address: grze\n",
            "Enter delivery method: rews\n",
            "Enter tracking number: 950\n",
            "Enter 'asc' for ascending order or 'desc' for descending order: desc\n",
            "\n",
            "Sorted packages:\n",
            "Barcode: 9412, Address: grze, Delivery Method: rews, Tracking Number: 950\n",
            "Barcode: 342, Address: qe, Delivery Method: te, Tracking Number: 500\n",
            "Barcode: 5646, Address: aa, Delivery Method: re, Tracking Number: 420\n",
            "Barcode: 1209, Address: tew, Delivery Method: te, Tracking Number: 125\n"
          ]
        }
      ]
    },
    {
      "cell_type": "markdown",
      "source": [
        "WEEK1_3_SKM_DAA:\n",
        "\n",
        "Imagine you are working for a large online marketplace like Amazon or eBay. One\n",
        "of the critical functionalities of such platforms is to display products to customers in\n",
        "a way that is relevant, helpful, and easy to navigate. Customers can browse through\n",
        "thousands or even millions of products, and Many users prefer to see products sorted\n",
        "by price, either in ascending or descending order. This allows them to find the\n",
        "cheapest or most expensive products within their budget. So, implement an\n",
        "application to arrange the products based on price."
      ],
      "metadata": {
        "id": "pXPaZHFPImfH"
      }
    },
    {
      "cell_type": "code",
      "source": [
        "def insertion_sort(arr, ascending=True):\n",
        "    n = len(arr)\n",
        "    for i in range(1, n):\n",
        "        key = arr[i]\n",
        "        j = i - 1\n",
        "        # Move elements of arr[0..i-1] that are greater (or smaller) than key\n",
        "        # to one position ahead of their current position\n",
        "        while j >= 0 and ((arr[j]['total_cost'] > key['total_cost'] and ascending) or\n",
        "                          (arr[j]['total_cost'] < key['total_cost'] and not ascending)):\n",
        "            arr[j + 1] = arr[j]\n",
        "            j -= 1\n",
        "        arr[j + 1] = key\n",
        "    return arr\n",
        "\n",
        "def arrange_products():\n",
        "    # Initialize an empty list to store product details\n",
        "    products = []\n",
        "\n",
        "    # Get the details for each product\n",
        "    while True:\n",
        "        try:\n",
        "            num_products = int(input(\"Enter the number of products: \"))\n",
        "            break # Exit the loop if input is valid\n",
        "        except ValueError:\n",
        "            print(\"Invalid input. Please enter a number.\")\n",
        "\n",
        "    for i in range(num_products):\n",
        "        print(f\"Enter details for product {i + 1}:\")\n",
        "        product_name = input(\"Enter product name: \")\n",
        "        cost_per_unit = float(input(\"Enter cost per unit: \"))\n",
        "        total_units = int(input(\"Enter total units: \"))\n",
        "\n",
        "        # Calculate total cost\n",
        "        total_cost = cost_per_unit * total_units\n",
        "\n",
        "        # Store the product details in a dictionary\n",
        "        product_details = {\n",
        "            'product_name': product_name,\n",
        "            'cost_per_unit': cost_per_unit,\n",
        "            'total_units': total_units,\n",
        "            'total_cost': total_cost\n",
        "        }\n",
        "\n",
        "        # Add the product details to the list\n",
        "        products.append(product_details)\n",
        "\n",
        "    # Ask the customer for their preference (ascending or descending order)\n",
        "    preference = input(\"Enter 'asc' for ascending order or 'desc' for descending order: \")\n",
        "\n",
        "    # Determine sorting order\n",
        "    ascending = preference.lower() == 'asc'\n",
        "\n",
        "    # Sort the products based on total cost using insertion sort\n",
        "    sorted_products = insertion_sort(products, ascending)\n",
        "\n",
        "    # Print the sorted product details\n",
        "    print(\"\\nSorted products:\")\n",
        "    for product in sorted_products:\n",
        "        print(f\"Product Name: {product['product_name']}, Cost per Unit: ${product['cost_per_unit']:.2f}, \"\n",
        "              f\"Total Units: {product['total_units']}, Total Cost: ${product['total_cost']:.2f}\")\n",
        "\n",
        "arrange_products()"
      ],
      "metadata": {
        "colab": {
          "base_uri": "https://localhost:8080/"
        },
        "id": "c0vwsZyJUKTv",
        "outputId": "8688ec70-d670-4d85-b699-3bc7b62f5d55"
      },
      "execution_count": null,
      "outputs": [
        {
          "output_type": "stream",
          "name": "stdout",
          "text": [
            "Enter the number of products: 4\n",
            "Enter details for product 1:\n",
            "Enter product name: nam\n",
            "Enter cost per unit: 40\n",
            "Enter total units: 3\n",
            "Enter details for product 2:\n",
            "Enter product name: sudo\n",
            "Enter cost per unit: 50\n",
            "Enter total units: 1\n",
            "Enter details for product 3:\n",
            "Enter product name: multi\n",
            "Enter cost per unit: 100\n",
            "Enter total units: 8\n",
            "Enter details for product 4:\n",
            "Enter product name: maggi\n",
            "Enter cost per unit: 60\n",
            "Enter total units: 10\n",
            "Enter 'asc' for ascending order or 'desc' for descending order: asc\n",
            "\n",
            "Sorted products:\n",
            "Product Name: sudo, Cost per Unit: $50.00, Total Units: 1, Total Cost: $50.00\n",
            "Product Name: nam, Cost per Unit: $40.00, Total Units: 3, Total Cost: $120.00\n",
            "Product Name: maggi, Cost per Unit: $60.00, Total Units: 10, Total Cost: $600.00\n",
            "Product Name: multi, Cost per Unit: $100.00, Total Units: 8, Total Cost: $800.00\n"
          ]
        }
      ]
    }
  ]
}